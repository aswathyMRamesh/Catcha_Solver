{
 "cells": [
  {
   "cell_type": "code",
   "execution_count": 8,
   "metadata": {
    "_cell_guid": "b1076dfc-b9ad-4769-8c92-a6c4dae69d19",
    "_uuid": "8f2839f25d086af736a60e9eeb907d3b93b6e0e5",
    "execution": {
     "iopub.execute_input": "2025-09-03T10:29:48.621541Z",
     "iopub.status.busy": "2025-09-03T10:29:48.620931Z",
     "iopub.status.idle": "2025-09-03T10:31:19.214122Z",
     "shell.execute_reply": "2025-09-03T10:31:19.213015Z",
     "shell.execute_reply.started": "2025-09-03T10:29:48.621508Z"
    },
    "trusted": true
   },
   "outputs": [
    {
     "name": "stdout",
     "output_type": "stream",
     "text": [
      "Python 3.11.13\n",
      "Requirement already satisfied: pip in /usr/local/lib/python3.11/dist-packages (24.1.2)\n",
      "Collecting pip\n",
      "  Downloading pip-25.2-py3-none-any.whl.metadata (4.7 kB)\n",
      "Downloading pip-25.2-py3-none-any.whl (1.8 MB)\n",
      "\u001b[2K   \u001b[90m━━━━━━━━━━━━━━━━━━━━━━━━━━━━━━━━━━━━━━━━\u001b[0m \u001b[32m1.8/1.8 MB\u001b[0m \u001b[31m22.0 MB/s\u001b[0m eta \u001b[36m0:00:00\u001b[0m00:01\u001b[0m00:01\u001b[0m\n",
      "\u001b[?25hInstalling collected packages: pip\n",
      "  Attempting uninstall: pip\n",
      "    Found existing installation: pip 24.1.2\n",
      "    Uninstalling pip-24.1.2:\n",
      "      Successfully uninstalled pip-24.1.2\n",
      "Successfully installed pip-25.2\n"
     ]
    }
   ],
   "source": [
    "# Check Python version\n",
    "!python3 --version\n",
    "\n",
    "# Upgrade pip\n",
    "!pip install --upgrade pip\n",
    "\n",
    "# Install required libraries\n",
    "!pip install torch torchvision torchaudio --quiet\n",
    "!pip install numpy pillow matplotlib --quiet"
   ]
  },
  {
   "cell_type": "code",
   "execution_count": 68,
   "metadata": {
    "execution": {
     "iopub.execute_input": "2025-09-03T21:21:33.725495Z",
     "iopub.status.busy": "2025-09-03T21:21:33.725187Z",
     "iopub.status.idle": "2025-09-03T21:21:33.730046Z",
     "shell.execute_reply": "2025-09-03T21:21:33.729123Z",
     "shell.execute_reply.started": "2025-09-03T21:21:33.725477Z"
    },
    "trusted": true
   },
   "outputs": [],
   "source": [
    "from pathlib import Path\n",
    "import csv\n",
    "\n",
    "DATA_ROOT = Path(\"data\")  # <-- change if needed\n",
    "ALPHABET  = \"0123456789ABCDEFGHIJKLMNOPQRSTUVWXYZ\"  # used if building from YOLO labels\n",
    "\n",
    "PARTS     = [\"part2\", \"part3\", \"part4\"]       # adjust if you only want a subset\n",
    "SPLITS    = [\"train\", \"val\", \"test\"]          # we’ll skip missing ones gracefully"
   ]
  },
  {
   "cell_type": "code",
   "execution_count": 69,
   "metadata": {
    "execution": {
     "iopub.execute_input": "2025-09-03T21:21:35.983544Z",
     "iopub.status.busy": "2025-09-03T21:21:35.983214Z",
     "iopub.status.idle": "2025-09-03T21:21:35.990154Z",
     "shell.execute_reply": "2025-09-03T21:21:35.989120Z",
     "shell.execute_reply.started": "2025-09-03T21:21:35.983522Z"
    },
    "trusted": true
   },
   "outputs": [],
   "source": [
    "def read_yolo_text_label_file(txt_path: Path, alphabet: str) -> str:\n",
    "    \"\"\"Reconstructs the captcha string from a YOLO .txt (class x y w h ...) by sorting on x-center.\"\"\"\n",
    "    if not txt_path.exists():\n",
    "        return \"\"\n",
    "    items = []\n",
    "    with txt_path.open(\"r\", encoding=\"utf-8\") as f:\n",
    "        for line in f:\n",
    "            line = line.strip()\n",
    "            if not line:\n",
    "                continue\n",
    "            parts = line.split()\n",
    "            if len(parts) < 5:\n",
    "                continue\n",
    "            try:\n",
    "                cls = int(float(parts[0]))\n",
    "                x_center = float(parts[1])\n",
    "            except Exception:\n",
    "                continue\n",
    "            if 0 <= cls < len(alphabet):\n",
    "                items.append((x_center, cls))\n",
    "    items.sort(key=lambda t: t[0])\n",
    "    return \"\".join(alphabet[cls] for _, cls in items)"
   ]
  },
  {
   "cell_type": "code",
   "execution_count": 70,
   "metadata": {
    "execution": {
     "iopub.execute_input": "2025-09-03T21:21:38.504811Z",
     "iopub.status.busy": "2025-09-03T21:21:38.504498Z",
     "iopub.status.idle": "2025-09-03T21:21:38.513292Z",
     "shell.execute_reply": "2025-09-03T21:21:38.512291Z",
     "shell.execute_reply.started": "2025-09-03T21:21:38.504788Z"
    },
    "trusted": true
   },
   "outputs": [],
   "source": [
    "def ensure_annotations_csv(part_dir: Path, split: str, alphabet: str):\n",
    "    split_dir = part_dir / split\n",
    "    img_dir   = split_dir / \"images\"\n",
    "    lab_dir   = split_dir / \"labels\"      \n",
    "\n",
    "    if not img_dir.exists():\n",
    "        print(f\"[SKIP] {img_dir} does not exist.\")\n",
    "        return\n",
    "\n",
    "    out_csv  = split_dir / \"annotations.csv\"\n",
    "    rows = []\n",
    "\n",
    "    has_labels = lab_dir.exists()\n",
    "    if has_labels:\n",
    "        # Build from YOLO txts\n",
    "        for img_path in sorted(img_dir.iterdir()):\n",
    "            if img_path.suffix.lower() not in {\".png\", \".jpg\", \".jpeg\"}:\n",
    "                continue\n",
    "            txt_path = lab_dir / f\"{img_path.stem}.txt\"\n",
    "            label = read_yolo_text_label_file(txt_path, alphabet)\n",
    "            rows.append((img_path.name, label))\n",
    "    else:\n",
    "        # No labels folder — create empty labels\n",
    "        for img_path in sorted(img_dir.iterdir()):\n",
    "            if img_path.suffix.lower() not in {\".png\", \".jpg\", \".jpeg\"}:\n",
    "                continue\n",
    "            rows.append((img_path.name, \"\"))\n",
    "\n",
    "        if split != \"test\":\n",
    "            print(f\"[WARN] {split_dir} has no labels/ folder. Wrote empty labels for '{split}'. \"\n",
    "                  f\"Train/val will only work if you switch your training to --label_mode yolo \"\n",
    "                  f\"and actually provide labels, or you add a proper annotations.csv later.\")\n",
    "\n",
    "    # write CSV (filename,label) without pandas\n",
    "    out_csv.parent.mkdir(parents=True, exist_ok=True)\n",
    "    with out_csv.open(\"w\", newline=\"\", encoding=\"utf-8\") as f:\n",
    "        w = csv.writer(f)\n",
    "        w.writerow([\"filename\", \"label\"])\n",
    "        w.writerows(rows)\n",
    "\n",
    "    print(f\"[OK] Wrote {out_csv} ({len(rows)} rows)  | labels_found={has_labels}\")"
   ]
  },
  {
   "cell_type": "code",
   "execution_count": null,
   "metadata": {
    "trusted": true
   },
   "outputs": [],
   "source": [
    "for p in PARTS:\n",
    "    part_dir = DATA_ROOT / p\n",
    "    if not part_dir.exists():\n",
    "        print(f\"[SKIP] {part_dir} not found.\")\n",
    "        continue\n",
    "    for split in SPLITS:\n",
    "        ensure_annotations_csv(part_dir, split, ALPHABET)"
   ]
  },
  {
   "cell_type": "code",
   "execution_count": 25,
   "metadata": {
    "execution": {
     "iopub.execute_input": "2025-09-03T18:13:34.643069Z",
     "iopub.status.busy": "2025-09-03T18:13:34.642475Z",
     "iopub.status.idle": "2025-09-03T19:46:40.456036Z",
     "shell.execute_reply": "2025-09-03T19:46:40.455294Z",
     "shell.execute_reply.started": "2025-09-03T18:13:34.643026Z"
    },
    "trusted": true
   },
   "outputs": [
    {
     "name": "stdout",
     "output_type": "stream",
     "text": [
      "[INFO] Using predefined train/val/test splits\n",
      "[CHECK] train: images=60000  label_rows=60000  matched=60000\n",
      "[CHECK] label histogram (top 10 of 270279): [('0', 17502), ('1', 13080), ('2', 11354), ('3', 9910), ('4', 9070), ('5', 8700), ('6', 8238), ('7', 8016), ('8', 7633), ('9', 7502)]\n",
      "[CHECK] val: images=20000  label_rows=20000  matched=20000\n",
      "[CHECK] label histogram (top 10 of 90223): [('0', 5791), ('1', 4405), ('2', 3716), ('3', 3326), ('4', 3056), ('5', 2953), ('6', 2850), ('7', 2596), ('8', 2476), ('9', 2434)]\n",
      "[INFO] time_steps=10  max_label_len=7\n",
      "[INFO] Starting training for 20 epochs on cuda\n",
      "[DEBUG] batch shapes: images (128, 1, 64, 320) targets_len 563 sum(target_lengths) 563\n",
      "[E001] train_loss=8.1566  val_loss=8.1568  acc=0.0000  cer=1.1363  time=284.5s  lr=0.000150\n",
      "[PEEK] sample predictions:\n",
      "  gt='6NXW'  pred='Y1'\n",
      "  gt='OO2'  pred='Y1Y'\n",
      "  gt='06ADQ2V'  pred='Y1'\n",
      "  gt='23B'  pred='Y'\n",
      "  gt='HR521'  pred='Y1Y1Y'\n",
      "[INFO] Saved best checkpoint to /root/captcha_solver/models/vgg16_lstm_ctc_best.pth\n",
      "[E002] train_loss=3.7301  val_loss=3.2389  acc=0.0015  cer=0.8691  time=270.5s  lr=0.000300\n",
      "[PEEK] sample predictions:\n",
      "  gt='0C7'  pred='900'\n",
      "  gt='8N2AO'  pred='6030'\n",
      "  gt='EC1'  pred='601'\n",
      "  gt='4K2U0LK'  pred='VW310'\n",
      "  gt='1AQM'  pred='100'\n",
      "[INFO] Saved best checkpoint to /root/captcha_solver/models/vgg16_lstm_ctc_best.pth\n",
      "[E003] train_loss=1.7901  val_loss=1.4442  acc=0.1446  cer=0.4088  time=272.0s  lr=0.000298\n",
      "[PEEK] sample predictions:\n",
      "  gt='M2FBF7'  pred='X2EF7'\n",
      "  gt='TL4YVRK'  pred='TI4XRK'\n",
      "  gt='I97'  pred='I9T'\n",
      "  gt='OAS3Z3X'  pred='9R643X'\n",
      "  gt='1IT1'  pred='1TT'\n",
      "[INFO] Saved best checkpoint to /root/captcha_solver/models/vgg16_lstm_ctc_best.pth\n",
      "[E004] train_loss=0.5170  val_loss=1.1150  acc=0.2924  cer=0.2749  time=272.4s  lr=0.000291\n",
      "[PEEK] sample predictions:\n",
      "  gt='848'  pred='848'\n",
      "  gt='7WB4G'  pred='7WB4G'\n",
      "  gt='NZ7'  pred='NZ1'\n",
      "  gt='T2I'  pred='T2I'\n",
      "  gt='8I19G'  pred='8119B'\n",
      "[INFO] Saved best checkpoint to /root/captcha_solver/models/vgg16_lstm_ctc_best.pth\n",
      "[E005] train_loss=0.2741  val_loss=0.7062  acc=0.4709  cer=0.1668  time=272.1s  lr=0.000280\n",
      "[PEEK] sample predictions:\n",
      "  gt='W101'  pred='P01'\n",
      "  gt='86D617'  pred='860617'\n",
      "  gt='U6UX'  pred='06UX'\n",
      "  gt='YC93'  pred='YC93'\n",
      "  gt='TI4'  pred='TI4'\n",
      "[INFO] Saved best checkpoint to /root/captcha_solver/models/vgg16_lstm_ctc_best.pth\n",
      "[INFO] Saved checkpoint to /root/captcha_solver/models/vgg16_lstm_ctc_epoch005.pth\n",
      "[E006] train_loss=0.1827  val_loss=0.6256  acc=0.5312  cer=0.1481  time=272.0s  lr=0.000265\n",
      "[PEEK] sample predictions:\n",
      "  gt='85YF63'  pred='85YF63'\n",
      "  gt='ZG0'  pred='ZC0'\n",
      "  gt='5IFZE'  pred='5IFZE'\n",
      "  gt='1DAC4G'  pred='10AC4G'\n",
      "  gt='VSDHW3'  pred='VSDHW3'\n",
      "[INFO] Saved best checkpoint to /root/captcha_solver/models/vgg16_lstm_ctc_best.pth\n",
      "[E007] train_loss=0.1341  val_loss=0.8250  acc=0.4415  cer=0.1825  time=271.9s  lr=0.000246\n",
      "[PEEK] sample predictions:\n",
      "  gt='5YVO6H'  pred='5YV06H'\n",
      "  gt='Z4HRS'  pred='Z4HR5'\n",
      "  gt='619IM'  pred='6191M'\n",
      "  gt='5Z7B2Y6'  pred='5Z7B2Y6'\n",
      "  gt='AQ4TK2S'  pred='AQTK2S'\n",
      "[E008] train_loss=0.1047  val_loss=0.5707  acc=0.5676  cer=0.1249  time=271.8s  lr=0.000225\n",
      "[PEEK] sample predictions:\n",
      "  gt='OML8ZD'  pred='0MML8ZD'\n",
      "  gt='2H3M'  pred='2H3M'\n",
      "  gt='GQMU'  pred='GQMU'\n",
      "  gt='7135M41'  pred='713547'\n",
      "  gt='A2B4U'  pred='A284U'\n",
      "[INFO] Saved best checkpoint to /root/captcha_solver/models/vgg16_lstm_ctc_best.pth\n",
      "[E009] train_loss=0.0805  val_loss=0.6612  acc=0.5408  cer=0.1464  time=271.8s  lr=0.000201\n",
      "[PEEK] sample predictions:\n",
      "  gt='JB5'  pred='JB5'\n",
      "  gt='3JX252'  pred='3JX252'\n",
      "  gt='L8C01'  pred='L8C01'\n",
      "  gt='KI5'  pred='4MI5'\n",
      "  gt='07E2Q'  pred='07E2Q'\n",
      "[E010] train_loss=0.0653  val_loss=0.6180  acc=0.5658  cer=0.1387  time=271.5s  lr=0.000176\n",
      "[PEEK] sample predictions:\n",
      "  gt='W0P2EQ'  pred='W0P2EQ'\n",
      "  gt='5H'  pred='5H'\n",
      "  gt='1UNXZOR'  pred='1UNXZ0R'\n",
      "  gt='2321D6Z'  pred='2321D6Z'\n",
      "  gt='TN1'  pred='TN1'\n",
      "[INFO] Saved checkpoint to /root/captcha_solver/models/vgg16_lstm_ctc_epoch010.pth\n",
      "[E011] train_loss=0.0509  val_loss=0.6528  acc=0.5793  cer=0.1423  time=271.6s  lr=0.000150\n",
      "[PEEK] sample predictions:\n",
      "  gt='5TE6Y2'  pred='5TE5E2'\n",
      "  gt='7J2J9'  pred='7J2J9'\n",
      "  gt='Z016JJ'  pred='Z0I8JJ'\n",
      "  gt='YW7D0F'  pred='YW7D0F'\n",
      "  gt='W3TA5B'  pred='W3TA5B'\n",
      "[E012] train_loss=0.0414  val_loss=0.5885  acc=0.5999  cer=0.1293  time=271.8s  lr=0.000124\n",
      "[PEEK] sample predictions:\n",
      "  gt='60I'  pred='60I'\n",
      "  gt='FE20'  pred='FE20'\n",
      "  gt='AGPD'  pred='A6PD'\n",
      "  gt='QYG4UH'  pred='QYG4UH'\n",
      "  gt='WW3'  pred='WW3'\n",
      "[E013] train_loss=0.0322  val_loss=0.5216  acc=0.6425  cer=0.1075  time=271.9s  lr=0.000099\n",
      "[PEEK] sample predictions:\n",
      "  gt='0LA77'  pred='0LA77'\n",
      "  gt='80'  pred='80'\n",
      "  gt='G6U'  pred='U6U'\n",
      "  gt='26U6I00'  pred='26U8I00'\n",
      "  gt='5VQEB'  pred='5VQEB'\n",
      "[INFO] Saved best checkpoint to /root/captcha_solver/models/vgg16_lstm_ctc_best.pth\n",
      "[E014] train_loss=0.0250  val_loss=0.5332  acc=0.6480  cer=0.1083  time=271.8s  lr=0.000075\n",
      "[PEEK] sample predictions:\n",
      "  gt='OZIGSO'  pred='0Z1GS0'\n",
      "  gt='E1'  pred='E1'\n",
      "  gt='8JL07'  pred='8JL07'\n",
      "  gt='6RX3TRJ'  pred='6HX3TRJ'\n",
      "  gt='E70'  pred='E2Z0'\n",
      "[E015] train_loss=0.0208  val_loss=0.5700  acc=0.6417  cer=0.1098  time=271.8s  lr=0.000054\n",
      "[PEEK] sample predictions:\n",
      "  gt='EMOG0'  pred='EMOGO'\n",
      "  gt='34QYE2L'  pred='34QYE2L'\n",
      "  gt='1UM581'  pred='1UUM581'\n",
      "  gt='3OFL'  pred='30FL'\n",
      "  gt='03'  pred='03'\n",
      "[INFO] Saved checkpoint to /root/captcha_solver/models/vgg16_lstm_ctc_epoch015.pth\n",
      "[E016] train_loss=0.0176  val_loss=0.4904  acc=0.6722  cer=0.0995  time=271.9s  lr=0.000035\n",
      "[PEEK] sample predictions:\n",
      "  gt='JUM6'  pred='JUM6'\n",
      "  gt='80DXH'  pred='80DXH'\n",
      "  gt='Q4R'  pred='Q4QR'\n",
      "  gt='32DF9RZ'  pred='320F9RZ'\n",
      "  gt='89FD1'  pred='89FD1'\n",
      "[INFO] Saved best checkpoint to /root/captcha_solver/models/vgg16_lstm_ctc_best.pth\n",
      "[E017] train_loss=0.0146  val_loss=0.5032  acc=0.6720  cer=0.0980  time=271.5s  lr=0.000020\n",
      "[PEEK] sample predictions:\n",
      "  gt='PY3L74H'  pred='PYJL74H'\n",
      "  gt='J57ZXH'  pred='J52ZXH'\n",
      "  gt='J5'  pred='J5'\n",
      "  gt='LT7'  pred='LT7'\n",
      "  gt='PMRK2BK'  pred='AMRK2BK'\n",
      "[INFO] Saved best checkpoint to /root/captcha_solver/models/vgg16_lstm_ctc_best.pth\n",
      "[E018] train_loss=0.0120  val_loss=0.5392  acc=0.6615  cer=0.1021  time=271.8s  lr=0.000009\n",
      "[PEEK] sample predictions:\n",
      "  gt='5WS1ZH'  pred='5WS1ZH'\n",
      "  gt='FFU37XZ'  pred='FIU37XZ'\n",
      "  gt='C3R'  pred='C33R'\n",
      "  gt='Y3O'  pred='V4O'\n",
      "  gt='AHZKS6'  pred='AHZKS6'\n",
      "[E019] train_loss=0.0113  val_loss=0.4944  acc=0.6855  cer=0.0932  time=271.7s  lr=0.000002\n",
      "[PEEK] sample predictions:\n",
      "  gt='D4Q9'  pred='D4Q9'\n",
      "  gt='HCF'  pred='HPF'\n",
      "  gt='B8T'  pred='8T'\n",
      "  gt='8YVE00'  pred='8YVE00'\n",
      "  gt='0G345E'  pred='0G345E'\n",
      "[INFO] Saved best checkpoint to /root/captcha_solver/models/vgg16_lstm_ctc_best.pth\n",
      "[E020] train_loss=0.0111  val_loss=0.4974  acc=0.6836  cer=0.0937  time=272.0s  lr=0.000000\n",
      "[PEEK] sample predictions:\n",
      "  gt='1FR'  pred='1JR'\n",
      "  gt='PJM'  pred='PJM'\n",
      "  gt='QB'  pred='QB'\n",
      "  gt='62YU6'  pred='62YU6'\n",
      "  gt='CFMJX'  pred='CFMJX'\n",
      "[INFO] Saved checkpoint to /root/captcha_solver/models/vgg16_lstm_ctc_epoch020.pth\n",
      "[INFO] Training complete.\n"
     ]
    }
   ],
   "source": [
    "!python train.py \\\n",
    "  --data_root data/part2 \\ \n",
    "  --annotations annotations.csv \\\n",
    "  --label_mode csv \\\n",
    "  --img_h 64 --img_w 320 \\\n",
    "  --batch_size 128 --epochs 20 \\\n",
    "  --lr 3e-4 --scheduler cosine \\\n",
    "  --rnn_hidden 320 \\\n",
    "  --use_external_aug \\\n",
    "  --aug_strength mild \\\n",
    "  --rotation_mode resize"
   ]
  },
  {
   "cell_type": "code",
   "execution_count": 55,
   "metadata": {
    "execution": {
     "iopub.execute_input": "2025-09-03T20:42:48.365733Z",
     "iopub.status.busy": "2025-09-03T20:42:48.365448Z",
     "iopub.status.idle": "2025-09-03T20:44:31.366867Z",
     "shell.execute_reply": "2025-09-03T20:44:31.365856Z",
     "shell.execute_reply.started": "2025-09-03T20:42:48.365708Z"
    },
    "trusted": true
   },
   "outputs": [
    {
     "name": "stdout",
     "output_type": "stream",
     "text": [
      "\n",
      "=== Overall ===\n",
      "split: val\n",
      "val_loss: 0.497411\n",
      "seq_accuracy: 0.683600\n",
      "cer_mean: 0.093740\n",
      "num_samples: 20000\n",
      "\n",
      "=== Top 15 most error-prone characters (by error_rate) ===\n",
      "char  errors  support  error_rate  subs_from_char  deletions_of_char  correct\n",
      "   O     939     2101    0.446930             925                 14     1162\n",
      "   Q     605     2097    0.288507             586                 19     1492\n",
      "   D     437     2407    0.181554             418                 19     1970\n",
      "   R     223     2081    0.107160             213                 10     1858\n",
      "   7     277     2596    0.106703             250                 27     2319\n",
      "   B     256     2405    0.106445             239                 17     2149\n",
      "   T     211     2134    0.098875             193                 18     1923\n",
      "   1     426     4405    0.096708             383                 43     3979\n",
      "   G     201     2247    0.089453             187                 14     2046\n",
      "   A     189     2424    0.077970             174                 15     2235\n",
      "   I     169     2186    0.077310             140                 29     2017\n",
      "   N     157     2138    0.073433             142                 15     1981\n",
      "   W     140     2029    0.069000             131                  9     1889\n",
      "   4     197     3056    0.064463             169                 28     2859\n",
      "   F     147     2297    0.063997             136                 11     2150\n",
      "\n",
      "=== Top 15 substitutions (ROW-NORMALIZED by truth support) ===\n",
      "truth pred  count  truth_support  row_frac\n",
      "    O    0    885           2101  0.421228\n",
      "    Q    0    389           2097  0.185503\n",
      "    D    0    364           2407  0.151226\n",
      "    B    8    200           2405  0.083160\n",
      "    G    6    125           2247  0.055630\n",
      "    R    P    100           2081  0.048054\n",
      "    T    I    100           2134  0.046860\n",
      "    A    4    110           2424  0.045380\n",
      "    1    7    183           4405  0.041544\n",
      "    0    O    234           5791  0.040408\n",
      "    Q    4     76           2097  0.036242\n",
      "    7    1     85           2596  0.032743\n",
      "    Q    2     52           2097  0.024797\n",
      "    N    W     49           2138  0.022919\n",
      "    W    V     45           2029  0.022178\n",
      "\n",
      "=== Top 15 substitutions (RAW counts, NOT normalized) ===\n",
      "truth pred  count  truth_support  row_frac\n",
      "    O    0    885           2101  0.421228\n",
      "    Q    0    389           2097  0.185503\n",
      "    D    0    364           2407  0.151226\n",
      "    0    O    234           5791  0.040408\n",
      "    B    8    200           2405  0.083160\n",
      "    1    7    183           4405  0.041544\n",
      "    G    6    125           2247  0.055630\n",
      "    A    4    110           2424  0.045380\n",
      "    R    P    100           2081  0.048054\n",
      "    T    I    100           2134  0.046860\n",
      "    7    1     85           2596  0.032743\n",
      "    Q    4     76           2097  0.036242\n",
      "    7    T     53           2596  0.020416\n",
      "    Q    2     52           2097  0.024797\n",
      "    N    W     49           2138  0.022919\n",
      "\n",
      "=== Top 15 insertions (spurious predicted chars) ===\n",
      "char  count\n",
      "   0    250\n",
      "   4     83\n",
      "   6     71\n",
      "   Z     69\n",
      "   G     67\n",
      "   2     62\n",
      "   W     61\n",
      "   O     60\n",
      "   M     58\n",
      "   3     50\n",
      "   V     47\n",
      "   7     46\n",
      "   C     46\n",
      "   1     45\n",
      "   U     44\n",
      "\n",
      "=== Top 15 deletions (missed truth chars) ===\n",
      "char  count\n",
      "   1     43\n",
      "   0     34\n",
      "   I     29\n",
      "   4     28\n",
      "   7     27\n",
      "   5     26\n",
      "   C     26\n",
      "   L     25\n",
      "   6     20\n",
      "   Q     19\n",
      "   Y     19\n",
      "   D     19\n",
      "   2     18\n",
      "   E     18\n",
      "   T     18\n",
      "\n",
      "=== Top 15 worst normalized substitutions (truth -> pred) from confusion matrix ===\n",
      "O -> 0: frac=0.957  count=885  (subs from 'O' total=925)\n",
      "D -> 0: frac=0.871  count=364  (subs from 'D' total=418)\n",
      "B -> 8: frac=0.837  count=200  (subs from 'B' total=239)\n",
      "0 -> O: frac=0.785  count=234  (subs from '0' total=298)\n",
      "G -> 6: frac=0.668  count=125  (subs from 'G' total=187)\n",
      "Q -> 0: frac=0.664  count=389  (subs from 'Q' total=586)\n",
      "A -> 4: frac=0.632  count=110  (subs from 'A' total=174)\n",
      "S -> 5: frac=0.556  count=30  (subs from 'S' total=54)\n",
      "U -> 0: frac=0.533  count=40  (subs from 'U' total=75)\n",
      "T -> I: frac=0.518  count=100  (subs from 'T' total=193)\n",
      "1 -> 7: frac=0.478  count=183  (subs from '1' total=383)\n",
      "Y -> V: frac=0.477  count=41  (subs from 'Y' total=86)\n",
      "R -> P: frac=0.469  count=100  (subs from 'R' total=213)\n",
      "L -> U: frac=0.422  count=27  (subs from 'L' total=64)\n",
      "H -> W: frac=0.370  count=27  (subs from 'H' total=73)\n"
     ]
    }
   ],
   "source": [
    "!python error_analysis.py \\\n",
    "  --data_root data/part2 \\\n",
    "  --ckpt vgg16_lstm_ctc_epoch020.pth \\\n",
    "  --split val \\\n",
    "  --batch_size 128 \\\n",
    "  --num_workers 2 \\\n",
    "  --device auto \\\n",
    "  --out_prefix . \n"
   ]
  },
  {
   "cell_type": "code",
   "execution_count": 56,
   "metadata": {
    "execution": {
     "iopub.execute_input": "2025-09-03T20:44:56.699298Z",
     "iopub.status.busy": "2025-09-03T20:44:56.698882Z",
     "iopub.status.idle": "2025-09-03T20:45:09.686437Z",
     "shell.execute_reply": "2025-09-03T20:45:09.685613Z",
     "shell.execute_reply.started": "2025-09-03T20:44:56.699268Z"
    },
    "trusted": true
   },
   "outputs": [
    {
     "name": "stdout",
     "output_type": "stream",
     "text": [
      "Saved image grid to: test_preds_grid.png\n",
      "Saved predictions CSV to: test_preds.csv\n"
     ]
    }
   ],
   "source": [
    "!python visualize_predictions.py \\\n",
    "  --data_root data/part2 \\\n",
    "  --ckpt /kaggle/working/vgg16_lstm_ctc_epoch020.pth \\\n",
    "  --split test \\\n",
    "  --num_samples 64 \\\n",
    "  --cols 8 \\\n",
    "  --out_image test_preds_grid.png \\\n",
    "  --out_csv test_preds.csv \\\n",
    "  --device auto\n"
   ]
  },
  {
   "cell_type": "code",
   "execution_count": 57,
   "metadata": {
    "execution": {
     "iopub.execute_input": "2025-09-03T20:45:14.013580Z",
     "iopub.status.busy": "2025-09-03T20:45:14.012899Z",
     "iopub.status.idle": "2025-09-03T20:49:33.594589Z",
     "shell.execute_reply": "2025-09-03T20:49:33.593757Z",
     "shell.execute_reply.started": "2025-09-03T20:45:14.013551Z"
    },
    "trusted": true
   },
   "outputs": [
    {
     "name": "stdout",
     "output_type": "stream",
     "text": [
      "[OK] Wrote 20000 entries to test_predictions.json\n"
     ]
    }
   ],
   "source": [
    "!python export_test_predictions.py \\\n",
    "  --data_root data/part2 \\\n",
    "  --ckpt /vgg16_lstm_ctc_epoch020.pth \\\n",
    "  --out_json test_predictions.json \\\n",
    "  --batch_size 128 \\\n",
    "  --device auto\n"
   ]
  },
  {
   "cell_type": "code",
   "execution_count": 64,
   "metadata": {
    "execution": {
     "iopub.execute_input": "2025-09-03T21:11:40.410801Z",
     "iopub.status.busy": "2025-09-03T21:11:40.410505Z",
     "iopub.status.idle": "2025-09-03T21:13:51.652014Z",
     "shell.execute_reply": "2025-09-03T21:13:51.650974Z",
     "shell.execute_reply.started": "2025-09-03T21:11:40.410779Z"
    },
    "trusted": true
   },
   "outputs": [
    {
     "name": "stdout",
     "output_type": "stream",
     "text": [
      "[OK] Wrote 20000 entries to test_predictions_part3.json\n"
     ]
    }
   ],
   "source": [
    "!python export_test_predictions.py \\\n",
    "  --data_root data/part3 \\\n",
    "  --ckpt /vgg16_lstm_ctc_epoch020.pth \\\n",
    "  --out_json test_predictions_part3.json \\\n",
    "  --batch_size 128 \\\n",
    "  --device auto\n"
   ]
  },
  {
   "cell_type": "code",
   "execution_count": 65,
   "metadata": {
    "execution": {
     "iopub.execute_input": "2025-09-03T21:13:57.814227Z",
     "iopub.status.busy": "2025-09-03T21:13:57.813421Z",
     "iopub.status.idle": "2025-09-03T21:19:26.817441Z",
     "shell.execute_reply": "2025-09-03T21:19:26.816422Z",
     "shell.execute_reply.started": "2025-09-03T21:13:57.814195Z"
    },
    "trusted": true
   },
   "outputs": [
    {
     "name": "stdout",
     "output_type": "stream",
     "text": [
      "[OK] Wrote 20000 entries to test_predictions_part4.json\n"
     ]
    }
   ],
   "source": [
    "!python export_test_predictions.py \\\n",
    "  --data_root data/part4 \\\n",
    "  --ckpt /vgg16_lstm_ctc_epoch020.pth \\\n",
    "  --out_json test_predictions_part4.json \\\n",
    "  --batch_size 128 \\\n",
    "  --device auto"
   ]
  }
 ],
 "metadata": {
  "kaggle": {
   "accelerator": "nvidiaTeslaT4",
   "dataSources": [
    {
     "datasetId": 8191126,
     "sourceId": 12943667,
     "sourceType": "datasetVersion"
    },
    {
     "datasetId": 8191302,
     "sourceId": 12943936,
     "sourceType": "datasetVersion"
    },
    {
     "datasetId": 8191931,
     "sourceId": 12944960,
     "sourceType": "datasetVersion"
    },
    {
     "datasetId": 8191941,
     "sourceId": 12944980,
     "sourceType": "datasetVersion"
    },
    {
     "datasetId": 8192004,
     "sourceId": 12945090,
     "sourceType": "datasetVersion"
    },
    {
     "datasetId": 8192013,
     "sourceId": 12945102,
     "sourceType": "datasetVersion"
    },
    {
     "datasetId": 8192076,
     "sourceId": 12945218,
     "sourceType": "datasetVersion"
    },
    {
     "datasetId": 8194966,
     "sourceId": 12949441,
     "sourceType": "datasetVersion"
    },
    {
     "datasetId": 8195068,
     "sourceId": 12949602,
     "sourceType": "datasetVersion"
    },
    {
     "datasetId": 8195913,
     "sourceId": 12950773,
     "sourceType": "datasetVersion"
    },
    {
     "datasetId": 8196389,
     "sourceId": 12951424,
     "sourceType": "datasetVersion"
    },
    {
     "datasetId": 8197414,
     "sourceId": 12952830,
     "sourceType": "datasetVersion"
    },
    {
     "datasetId": 8197703,
     "sourceId": 12953230,
     "sourceType": "datasetVersion"
    },
    {
     "datasetId": 8197742,
     "sourceId": 12953281,
     "sourceType": "datasetVersion"
    },
    {
     "datasetId": 8198306,
     "sourceId": 12954096,
     "sourceType": "datasetVersion"
    },
    {
     "datasetId": 8198315,
     "sourceId": 12954115,
     "sourceType": "datasetVersion"
    }
   ],
   "dockerImageVersionId": 31089,
   "isGpuEnabled": true,
   "isInternetEnabled": true,
   "language": "python",
   "sourceType": "notebook"
  },
  "kernelspec": {
   "display_name": "Python 3",
   "language": "python",
   "name": "python3"
  },
  "language_info": {
   "codemirror_mode": {
    "name": "ipython",
    "version": 3
   },
   "file_extension": ".py",
   "mimetype": "text/x-python",
   "name": "python",
   "nbconvert_exporter": "python",
   "pygments_lexer": "ipython3",
   "version": "3.11.13"
  }
 },
 "nbformat": 4,
 "nbformat_minor": 4
}
